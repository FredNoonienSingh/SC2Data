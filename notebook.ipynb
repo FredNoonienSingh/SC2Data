{
 "cells": [
  {
   "attachments": {},
   "cell_type": "markdown",
   "metadata": {},
   "source": [
    "<div align=\"center\">\n",
    "\n",
    "# Star Craft Replay-data Analysis\n",
    "\n",
    "</div>"
   ]
  },
  {
   "cell_type": "code",
   "execution_count": null,
   "metadata": {},
   "outputs": [],
   "source": [
    "\"\"\"___imports___\"\"\"\n",
    "\n",
    "\"\"\"SC2-reader\"\"\"\n",
    "import sc2reader\n",
    "\n",
    "\"\"\"Data handling \"\"\"\n",
    "import pandas as pd\n",
    "import numpy as np \n",
    "\n",
    "\"\"\"Visualizations\"\"\"\n",
    "import seaborn as sns\n",
    "import matplotlib.pyplot as plt \n",
    "%matplotlib inline\n",
    "\n",
    "\"\"\"ML-Preprocessing\"\"\"\n",
    "from sklearn.pipeline import Pipeline\n",
    "from sklearn.preprocessing import OneHotEncoder, Normalizer\n",
    "\n",
    "\"\"\"Regression\"\"\"\n",
    "from sklearn.svm import SVR\n",
    "from sklearn.tree import DecisionTreeRegressor\n",
    "\n",
    "\"\"\"classification\"\"\"\n",
    "from sklearn.svm import SVC\n"
   ]
  }
 ],
 "metadata": {
  "kernelspec": {
   "display_name": ".venv",
   "language": "python",
   "name": "python3"
  },
  "language_info": {
   "name": "python",
   "version": "3.11.3"
  },
  "orig_nbformat": 4
 },
 "nbformat": 4,
 "nbformat_minor": 2
}
